{
 "cells": [
  {
   "cell_type": "markdown",
   "metadata": {},
   "source": [
    "# Imports"
   ]
  },
  {
   "cell_type": "code",
   "execution_count": 5,
   "metadata": {},
   "outputs": [],
   "source": [
    "from tensorflow.keras import layers\n",
    "from tensorflow.keras import Model\n",
    "from tensorflow.keras.optimizers import RMSprop\n",
    "from tensorflow.keras.preprocessing.image import ImageDataGenerator\n",
    "import matplotlib.pyplot as plt\n",
    "import os"
   ]
  },
  {
   "cell_type": "markdown",
   "metadata": {},
   "source": [
    "# Constants"
   ]
  },
  {
   "cell_type": "code",
   "execution_count": 6,
   "metadata": {},
   "outputs": [],
   "source": [
    "INPUT_WIDTH = 150\n",
    "INPUT_HEIGHT = 150\n",
    "img_input = layers.Input(shape=(INPUT_WIDTH, INPUT_HEIGHT, 3))\n",
    "\n",
    "train_dir = 'train'\n",
    "validation_dir = 'validation'\n",
    "\n",
    "train_0_dir = os.path.join(train_dir, '0')\n",
    "train_1_dir = os.path.join(train_dir, '1')\n",
    "\n",
    "validation_0_dir = os.path.join(validation_dir, '0')\n",
    "validation_1_dir = os.path.join(validation_dir, '1')"
   ]
  },
  {
   "cell_type": "markdown",
   "metadata": {},
   "source": [
    "# Configure Model"
   ]
  },
  {
   "cell_type": "code",
   "execution_count": 7,
   "metadata": {},
   "outputs": [
    {
     "name": "stdout",
     "output_type": "stream",
     "text": [
      "WARNING:tensorflow:From /usr/local/lib/python3.7/site-packages/tensorflow/python/ops/init_ops.py:1251: calling VarianceScaling.__init__ (from tensorflow.python.ops.init_ops) with dtype is deprecated and will be removed in a future version.\n",
      "Instructions for updating:\n",
      "Call initializer instance with the dtype argument instead of passing it to the constructor\n",
      "WARNING:tensorflow:From /usr/local/lib/python3.7/site-packages/tensorflow/python/ops/nn_impl.py:180: add_dispatch_support.<locals>.wrapper (from tensorflow.python.ops.array_ops) is deprecated and will be removed in a future version.\n",
      "Instructions for updating:\n",
      "Use tf.where in 2.0, which has the same broadcast rule as np.where\n"
     ]
    }
   ],
   "source": [
    "# Each convolution extracts 3x3 filters and is followed by a max-pooling layer with a 2x2 window\n",
    "# First convolution extracts 16 filters\n",
    "x = layers.Conv2D(16, 3, activation='relu')(img_input)\n",
    "x = layers.MaxPooling2D(2)(x)\n",
    "\n",
    "# Second convolution extracts 32 filters\n",
    "x = layers.Conv2D(32, 3, activation='relu')(x)\n",
    "x = layers.MaxPooling2D(2)(x)\n",
    "\n",
    "# Third convolution extracts 64 filters\n",
    "x = layers.Conv2D(64, 3, activation='relu')(x)\n",
    "x = layers.MaxPooling2D(2)(x)\n",
    "\n",
    "# Flatten feature map in order to add fully connected layers\n",
    "x = layers.Flatten()(x)\n",
    "\n",
    "# Create a fully connected layer with ReLU activation and 512 hidden nodes\n",
    "x = layers.Dense(512, activation='relu')(x)\n",
    "\n",
    "x = layers.Dropout(0.5)(x)\n",
    "\n",
    "# Create output layer with a single node and sigmoid activation\n",
    "output = layers.Dense(1, activation='sigmoid')(x)\n",
    "\n",
    "# Create model\n",
    "model = Model(img_input, output)\n",
    "\n",
    "# Configure training specifications\n",
    "model.compile(loss='binary_crossentropy', optimizer=RMSprop(lr=0.001), metrics=['acc'])"
   ]
  },
  {
   "cell_type": "markdown",
   "metadata": {},
   "source": [
    "# Data Preprocessing"
   ]
  },
  {
   "cell_type": "code",
   "execution_count": 8,
   "metadata": {},
   "outputs": [
    {
     "name": "stdout",
     "output_type": "stream",
     "text": [
      "Found 92 images belonging to 2 classes.\n",
      "Found 23 images belonging to 2 classes.\n"
     ]
    }
   ],
   "source": [
    "# All images will be rescaled by 1./255\n",
    "train_datagen = ImageDataGenerator(\n",
    "    rescale=1./255,\n",
    "    rotation_range=40,\n",
    "    width_shift_range=0.2,\n",
    "    height_shift_range=0.2,\n",
    "    shear_range=0.2,\n",
    "    zoom_range=0.2,\n",
    "    horizontal_flip=True,)\n",
    "\n",
    "val_datagen = ImageDataGenerator(rescale=1./255)\n",
    "\n",
    "# Flow training images in batches of 20 using train_datagen generator\n",
    "train_generator = train_datagen.flow_from_directory(\n",
    "        train_dir,  # This is the source directory for training images\n",
    "        target_size=(150, 150),  # All images will be resized to 150x150\n",
    "        batch_size=10,\n",
    "        class_mode='binary')\n",
    "\n",
    "# Flow validation images in batches of 20 using val_datagen generator\n",
    "validation_generator = val_datagen.flow_from_directory(\n",
    "        validation_dir,\n",
    "        target_size=(150, 150),\n",
    "        batch_size=10,\n",
    "        class_mode='binary')"
   ]
  },
  {
   "cell_type": "markdown",
   "metadata": {},
   "source": [
    "# Train Model"
   ]
  },
  {
   "cell_type": "code",
   "execution_count": 9,
   "metadata": {},
   "outputs": [
    {
     "name": "stdout",
     "output_type": "stream",
     "text": [
      "Epoch 1/30\n",
      "9/9 - 3s - loss: 1.8292 - acc: 0.5000 - val_loss: 0.7820 - val_acc: 0.5500\n",
      "Epoch 2/30\n",
      "9/9 - 3s - loss: 0.7024 - acc: 0.5976 - val_loss: 0.6841 - val_acc: 0.5500\n",
      "Epoch 3/30\n",
      "9/9 - 3s - loss: 0.7026 - acc: 0.5000 - val_loss: 0.6893 - val_acc: 0.5500\n",
      "Epoch 4/30\n",
      "9/9 - 3s - loss: 0.7261 - acc: 0.5610 - val_loss: 0.6928 - val_acc: 0.5500\n",
      "Epoch 5/30\n",
      "9/9 - 3s - loss: 0.6823 - acc: 0.5976 - val_loss: 0.6900 - val_acc: 0.5500\n",
      "Epoch 6/30\n",
      "9/9 - 3s - loss: 0.6833 - acc: 0.5244 - val_loss: 0.7975 - val_acc: 0.5500\n",
      "Epoch 7/30\n",
      "9/9 - 3s - loss: 0.7350 - acc: 0.5333 - val_loss: 0.6905 - val_acc: 0.5500\n",
      "Epoch 8/30\n",
      "9/9 - 2s - loss: 0.7165 - acc: 0.5811 - val_loss: 0.6973 - val_acc: 0.5500\n",
      "Epoch 9/30\n",
      "9/9 - 3s - loss: 0.7029 - acc: 0.5444 - val_loss: 0.6954 - val_acc: 0.5500\n",
      "Epoch 10/30\n",
      "9/9 - 3s - loss: 0.6715 - acc: 0.5854 - val_loss: 0.9419 - val_acc: 0.5500\n",
      "Epoch 11/30\n",
      "9/9 - 3s - loss: 0.7135 - acc: 0.5976 - val_loss: 0.7054 - val_acc: 0.5500\n",
      "Epoch 12/30\n",
      "9/9 - 3s - loss: 0.7000 - acc: 0.5122 - val_loss: 0.7287 - val_acc: 0.5500\n",
      "Epoch 13/30\n",
      "9/9 - 3s - loss: 0.7117 - acc: 0.5854 - val_loss: 0.7115 - val_acc: 0.5500\n",
      "Epoch 14/30\n",
      "9/9 - 2s - loss: 0.6660 - acc: 0.5732 - val_loss: 0.7684 - val_acc: 0.5500\n",
      "Epoch 15/30\n",
      "9/9 - 3s - loss: 0.6780 - acc: 0.5333 - val_loss: 0.7792 - val_acc: 0.5500\n",
      "Epoch 16/30\n",
      "9/9 - 2s - loss: 0.8345 - acc: 0.6216 - val_loss: 0.8892 - val_acc: 0.5500\n",
      "Epoch 17/30\n",
      "9/9 - 3s - loss: 0.7222 - acc: 0.5333 - val_loss: 0.7327 - val_acc: 0.5500\n",
      "Epoch 18/30\n",
      "9/9 - 3s - loss: 0.7466 - acc: 0.5976 - val_loss: 0.7490 - val_acc: 0.5000\n",
      "Epoch 19/30\n",
      "9/9 - 3s - loss: 0.6614 - acc: 0.6585 - val_loss: 0.9475 - val_acc: 0.5500\n",
      "Epoch 20/30\n",
      "9/9 - 3s - loss: 0.7026 - acc: 0.5854 - val_loss: 1.2489 - val_acc: 0.5500\n",
      "Epoch 21/30\n",
      "9/9 - 3s - loss: 0.6627 - acc: 0.5244 - val_loss: 0.8629 - val_acc: 0.6000\n",
      "Epoch 22/30\n",
      "9/9 - 3s - loss: 0.6506 - acc: 0.5732 - val_loss: 0.9181 - val_acc: 0.4000\n",
      "Epoch 23/30\n",
      "9/9 - 3s - loss: 0.6247 - acc: 0.6098 - val_loss: 1.2664 - val_acc: 0.6000\n",
      "Epoch 24/30\n",
      "9/9 - 3s - loss: 0.6598 - acc: 0.6222 - val_loss: 0.8232 - val_acc: 0.5500\n",
      "Epoch 25/30\n",
      "9/9 - 3s - loss: 0.7096 - acc: 0.6098 - val_loss: 0.8417 - val_acc: 0.4000\n",
      "Epoch 26/30\n",
      "9/9 - 3s - loss: 0.6591 - acc: 0.6341 - val_loss: 1.3163 - val_acc: 0.5500\n",
      "Epoch 27/30\n",
      "9/9 - 3s - loss: 0.6647 - acc: 0.5270 - val_loss: 1.8048 - val_acc: 0.6000\n",
      "Epoch 28/30\n",
      "9/9 - 3s - loss: 0.6576 - acc: 0.5556 - val_loss: 0.8489 - val_acc: 0.5500\n",
      "Epoch 29/30\n",
      "9/9 - 3s - loss: 0.5284 - acc: 0.6951 - val_loss: 1.7127 - val_acc: 0.6500\n",
      "Epoch 30/30\n",
      "9/9 - 3s - loss: 0.7850 - acc: 0.5488 - val_loss: 0.8508 - val_acc: 0.5500\n"
     ]
    }
   ],
   "source": [
    "history = model.fit_generator(\n",
    "      train_generator,\n",
    "      steps_per_epoch=9,  # 2000 images = batch_size * steps\n",
    "      epochs=30,\n",
    "      validation_data=validation_generator,\n",
    "      validation_steps=2,  # 1000 images = batch_size * steps\n",
    "      verbose=2)"
   ]
  },
  {
   "cell_type": "markdown",
   "metadata": {},
   "source": [
    "# Visualize Accuracy and Loss"
   ]
  },
  {
   "cell_type": "code",
   "execution_count": 10,
   "metadata": {},
   "outputs": [
    {
     "data": {
      "text/plain": [
       "Text(0.5, 1.0, 'Training and validation loss')"
      ]
     },
     "execution_count": 10,
     "metadata": {},
     "output_type": "execute_result"
    },
    {
     "data": {
      "image/png": "[encoded data removed]",
      "text/plain": [
       "<Figure size 432x288 with 1 Axes>"
      ]
     },
     "metadata": {
      "needs_background": "light"
     },
     "output_type": "display_data"
    },
    {
     "data": {
      "image/png": "[encoded data removed]",
      "text/plain": [
       "<Figure size 432x288 with 1 Axes>"
      ]
     },
     "metadata": {
      "needs_background": "light"
     },
     "output_type": "display_data"
    }
   ],
   "source": [
    "# Retrieve a list of accuracy results on training and validation data\n",
    "# sets for each training epoch\n",
    "acc = history.history['acc']\n",
    "val_acc = history.history['val_acc']\n",
    "\n",
    "# Retrieve a list of list results on training and validation data\n",
    "# sets for each training epoch\n",
    "loss = history.history['loss']\n",
    "val_loss = history.history['val_loss']\n",
    "\n",
    "# Get number of epochs\n",
    "epochs = range(len(acc))\n",
    "\n",
    "%matplotlib inline\n",
    "\n",
    "# Plot training and validation accuracy per epoch\n",
    "plt.plot(epochs, acc)\n",
    "plt.plot(epochs, val_acc)\n",
    "plt.title('Training and validation accuracy')\n",
    "\n",
    "plt.figure()\n",
    "\n",
    "# Plot training and validation loss per epoch\n",
    "plt.plot(epochs, loss)\n",
    "plt.plot(epochs, val_loss)\n",
    "plt.title('Training and validation loss')"
   ]
  }
 ],
 "metadata": {
  "kernelspec": {
   "display_name": "Python 3",
   "language": "python",
   "name": "python3"
  },
  "language_info": {
   "codemirror_mode": {
    "name": "ipython",
    "version": 3
   },
   "file_extension": ".py",
   "mimetype": "text/x-python",
   "name": "python",
   "nbconvert_exporter": "python",
   "pygments_lexer": "ipython3",
   "version": "3.7.4"
  }
 },
 "nbformat": 4,
 "nbformat_minor": 2
}
