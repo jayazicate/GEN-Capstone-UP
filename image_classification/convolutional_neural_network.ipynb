{
 "cells": [
  {
   "cell_type": "markdown",
   "metadata": {},
   "source": [
    "# Imports"
   ]
  },
  {
   "cell_type": "code",
   "execution_count": null,
   "metadata": {},
   "outputs": [],
   "source": [
    "import os\n",
    "import matplotlib.pyplot as plt\n",
    "from tensorflow.keras import layers\n",
    "from tensorflow.keras import Model\n",
    "from tensorflow.keras.optimizers import RMSprop\n",
    "from tensorflow.keras.preprocessing.image import ImageDataGenerator\n",
    "from tensorflow.keras.callbacks import ModelCheckpoint"
   ]
  },
  {
   "cell_type": "markdown",
   "metadata": {},
   "source": [
    "# Constants"
   ]
  },
  {
   "cell_type": "code",
   "execution_count": null,
   "metadata": {},
   "outputs": [],
   "source": [
    "input_width = 150\n",
    "input_height = 150\n",
    "\n",
    "epochs = 20\n",
    "learning_rate = 0.0001\n",
    "\n",
    "train_batch_size = 32\n",
    "validation_batch_size = 32\n",
    "\n",
    "train_steps = 4\n",
    "validation_steps = 1\n",
    "\n",
    "checkpoint_path = \"checkpoints/convolutional_neural_network/cp-{epoch:04d}.ckpt\"\n",
    "checkpoint_frequency = 5\n",
    "\n",
    "train_dir = 'train'\n",
    "validation_dir = 'validation'\n",
    "\n",
    "train_0_dir = os.path.join(train_dir, '0')\n",
    "train_1_dir = os.path.join(train_dir, '1')\n",
    "\n",
    "validation_0_dir = os.path.join(validation_dir, '0')\n",
    "validation_1_dir = os.path.join(validation_dir, '1')"
   ]
  },
  {
   "cell_type": "markdown",
   "metadata": {},
   "source": [
    "# Configuration"
   ]
  },
  {
   "cell_type": "markdown",
   "metadata": {},
   "source": [
    "### Model Configuration \n",
    "\n",
    "The images will go into the model as `150x150` color images. The architecture of the model has three `convolution + ReLU + max-pooling` modules and a fully connected layer stacked on top of each other. Each convolution extracts `3x3` filters, and each max-polling layer uses a `2x2` window. Dropout is added before the final classification layer to reduce overfitting."
   ]
  },
  {
   "cell_type": "code",
   "execution_count": null,
   "metadata": {
    "scrolled": true
   },
   "outputs": [],
   "source": [
    "img_input = layers.Input(shape=(input_width, input_height, 3))\n",
    "\n",
    "# First convolution extracts 16 filters\n",
    "x = layers.Conv2D(16, 3, activation='relu')(img_input)\n",
    "x = layers.MaxPooling2D(2)(x)\n",
    "\n",
    "# Second convolution extracts 32 filters\n",
    "x = layers.Conv2D(32, 3, activation='relu')(x)\n",
    "x = layers.MaxPooling2D(2)(x)\n",
    "\n",
    "# Third convolution extracts 64 filters\n",
    "x = layers.Conv2D(64, 3, activation='relu')(x)\n",
    "x = layers.MaxPooling2D(2)(x)\n",
    "\n",
    "# Flatten feature map in order to add fully connected layers\n",
    "x = layers.Flatten()(x)\n",
    "\n",
    "# Create a fully connected layer with ReLU activation and 512 hidden nodes\n",
    "x = layers.Dense(512, activation='relu')(x)\n",
    "\n",
    "# Add a dropout rate of 0.2\n",
    "x = layers.Dropout(0.2)(x)\n",
    "\n",
    "# Create output layer with a single node and sigmoid activation\n",
    "output = layers.Dense(1, activation='sigmoid')(x)\n",
    "\n",
    "# Create model\n",
    "model = Model(img_input, output)\n",
    "\n",
    "# Print architecture of model\n",
    "model.summary()"
   ]
  },
  {
   "cell_type": "markdown",
   "metadata": {},
   "source": [
    "### Training Configuration\n",
    "\n",
    "Train model with the `binary_crossentropy` loss function, use the `rmsprop` optimizer, and monitor accuracy during training. Configure checkpoints to save weights of the model."
   ]
  },
  {
   "cell_type": "code",
   "execution_count": null,
   "metadata": {},
   "outputs": [],
   "source": [
    "# Configure training specifications\n",
    "model.compile(loss='binary_crossentropy', optimizer=RMSprop(lr=learning_rate), metrics=['acc'])\n",
    "\n",
    "# Configure checkpoints\n",
    "cp_callback = ModelCheckpoint(\n",
    "    filepath=checkpoint_path, \n",
    "    verbose=1, \n",
    "    save_weights_only=True,\n",
    "    period=checkpoint_frequency)"
   ]
  },
  {
   "cell_type": "markdown",
   "metadata": {},
   "source": [
    "# Data Preprocessing\n",
    "\n",
    "Create data generators to read pictures and feed them to the network. Resize all images to be `150x150` pixels. Normalize data by making pixel values in range `[0, 1]` instead of `[0, 225]`. Augment training images by applying the following random transformations:\n",
    "- `rotation_range` is for randomly rotating the image.\n",
    "- `width_shift` and `height_shift` are for randomly translating pictures vertically or horizontally.\n",
    "- `shear_range` is for randomly applying shearing transformations.\n",
    "- `zoom_range` is for randomly zooming inside pictures.\n",
    "- `horizontal_flip` is for randomly flipping half of the images horizontally.\n",
    "- `fill_mode` is the strategy used for filling in newly created pixels, which can appear after a rotation or a width/height shift."
   ]
  },
  {
   "cell_type": "code",
   "execution_count": null,
   "metadata": {},
   "outputs": [],
   "source": [
    "# All images will be rescaled by 1./255\n",
    "train_datagen = ImageDataGenerator(\n",
    "    rescale=1./255,\n",
    "    rotation_range=40,\n",
    "    width_shift_range=0.2,\n",
    "    height_shift_range=0.2,\n",
    "    shear_range=0.2,\n",
    "    zoom_range=0.2,\n",
    "    horizontal_flip=True,\n",
    "    fill_mode='nearest')\n",
    "\n",
    "val_datagen = ImageDataGenerator(rescale=1./255)\n",
    "\n",
    "# Flow training images in batches of 20 using train_datagen generator\n",
    "train_generator = train_datagen.flow_from_directory(\n",
    "        train_dir,  # This is the source directory for training images\n",
    "        target_size=(input_width, input_height),\n",
    "        batch_size=train_batch_size,\n",
    "        class_mode='binary')\n",
    "\n",
    "# Flow validation images in batches of 20 using val_datagen generator\n",
    "validation_generator = val_datagen.flow_from_directory(\n",
    "        validation_dir,\n",
    "        target_size=(input_width, input_height),\n",
    "        batch_size=validation_batch_size,\n",
    "        class_mode='binary')"
   ]
  },
  {
   "cell_type": "markdown",
   "metadata": {},
   "source": [
    "# Training"
   ]
  },
  {
   "cell_type": "code",
   "execution_count": null,
   "metadata": {
    "scrolled": true
   },
   "outputs": [],
   "source": [
    "history = model.fit_generator(\n",
    "      train_generator,\n",
    "      steps_per_epoch=train_steps,  # training images = batch_size * steps\n",
    "      epochs=epochs,\n",
    "      callbacks=[cp_callback],\n",
    "      validation_data=validation_generator,\n",
    "      validation_steps=validation_steps,  # validation images = batch_size * steps\n",
    "      verbose=2)"
   ]
  },
  {
   "cell_type": "markdown",
   "metadata": {},
   "source": [
    "# Plot Accuracy and Loss\n",
    "\n",
    "Plot the training/validation loss and accuracy collected during training."
   ]
  },
  {
   "cell_type": "code",
   "execution_count": null,
   "metadata": {},
   "outputs": [],
   "source": [
    "# Retrieve a list of accuracy results on training and validation data\n",
    "# sets for each training epoch\n",
    "acc = history.history['acc']\n",
    "val_acc = history.history['val_acc']\n",
    "\n",
    "# Retrieve a list of list results on training and validation data\n",
    "# sets for each training epoch\n",
    "loss = history.history['loss']\n",
    "val_loss = history.history['val_loss']\n",
    "\n",
    "# Get number of epochs\n",
    "epochs = range(len(acc))\n",
    "\n",
    "%matplotlib inline\n",
    "\n",
    "# Plot training and validation accuracy per epoch\n",
    "plt.plot(epochs, acc, label='Training')\n",
    "plt.plot(epochs, val_acc, label='Validation')\n",
    "plt.title('Training and validation accuracy')\n",
    "plt.xlabel('Epochs')\n",
    "plt.legend()\n",
    "\n",
    "plt.figure()\n",
    "\n",
    "# Plot training and validation loss per epoch\n",
    "plt.plot(epochs, loss, label='Training')\n",
    "plt.plot(epochs, val_loss, label='Validation')\n",
    "plt.title('Training and validation loss')\n",
    "plt.xlabel('Epochs')\n",
    "plt.legend()"
   ]
  }
 ],
 "metadata": {
  "kernelspec": {
   "display_name": "Python 3",
   "language": "python",
   "name": "python3"
  },
  "language_info": {
   "codemirror_mode": {
    "name": "ipython",
    "version": 3
   },
   "file_extension": ".py",
   "mimetype": "text/x-python",
   "name": "python",
   "nbconvert_exporter": "python",
   "pygments_lexer": "ipython3",
   "version": "3.7.4"
  }
 },
 "nbformat": 4,
 "nbformat_minor": 2
}
